{
 "cells": [
  {
   "cell_type": "code",
   "execution_count": 10,
   "id": "2c2b2ab7",
   "metadata": {
    "_cell_guid": "b1076dfc-b9ad-4769-8c92-a6c4dae69d19",
    "_uuid": "8f2839f25d086af736a60e9eeb907d3b93b6e0e5",
    "execution": {
     "iopub.execute_input": "2025-10-24T12:30:44.290344Z",
     "iopub.status.busy": "2025-10-24T12:30:44.290099Z",
     "iopub.status.idle": "2025-10-24T12:30:46.649652Z",
     "shell.execute_reply": "2025-10-24T12:30:46.649051Z"
    },
    "papermill": {
     "duration": 2.36583,
     "end_time": "2025-10-24T12:30:46.651017",
     "exception": false,
     "start_time": "2025-10-24T12:30:44.285187",
     "status": "completed"
    },
    "tags": []
   },
   "outputs": [],
   "source": [
    "import pandas as pd\n",
    "import numpy as np\n",
    "import xgboost as xgb\n",
    "from xgboost import XGBRegressor\n",
    "from sklearn.preprocessing import StandardScaler"
   ]
  },
  {
   "cell_type": "code",
   "execution_count": 11,
   "id": "f7fcacec",
   "metadata": {
    "_kg_hide-input": true,
    "execution": {
     "iopub.execute_input": "2025-10-24T12:30:46.661446Z",
     "iopub.status.busy": "2025-10-24T12:30:46.660731Z",
     "iopub.status.idle": "2025-10-24T12:30:47.979040Z",
     "shell.execute_reply": "2025-10-24T12:30:47.978318Z"
    },
    "papermill": {
     "duration": 1.324562,
     "end_time": "2025-10-24T12:30:47.980190",
     "exception": false,
     "start_time": "2025-10-24T12:30:46.655628",
     "status": "completed"
    },
    "tags": []
   },
   "outputs": [
    {
     "name": "stdout",
     "output_type": "stream",
     "text": [
      "(517754, 14)\n"
     ]
    },
    {
     "data": {
      "text/html": [
       "<div>\n",
       "<style scoped>\n",
       "    .dataframe tbody tr th:only-of-type {\n",
       "        vertical-align: middle;\n",
       "    }\n",
       "\n",
       "    .dataframe tbody tr th {\n",
       "        vertical-align: top;\n",
       "    }\n",
       "\n",
       "    .dataframe thead th {\n",
       "        text-align: right;\n",
       "    }\n",
       "</style>\n",
       "<table border=\"1\" class=\"dataframe\">\n",
       "  <thead>\n",
       "    <tr style=\"text-align: right;\">\n",
       "      <th></th>\n",
       "      <th>id</th>\n",
       "      <th>road_type</th>\n",
       "      <th>num_lanes</th>\n",
       "      <th>curvature</th>\n",
       "      <th>speed_limit</th>\n",
       "      <th>lighting</th>\n",
       "      <th>weather</th>\n",
       "      <th>road_signs_present</th>\n",
       "      <th>public_road</th>\n",
       "      <th>time_of_day</th>\n",
       "      <th>holiday</th>\n",
       "      <th>school_season</th>\n",
       "      <th>num_reported_accidents</th>\n",
       "      <th>accident_risk</th>\n",
       "    </tr>\n",
       "  </thead>\n",
       "  <tbody>\n",
       "    <tr>\n",
       "      <th>0</th>\n",
       "      <td>0</td>\n",
       "      <td>urban</td>\n",
       "      <td>2</td>\n",
       "      <td>0.06</td>\n",
       "      <td>35</td>\n",
       "      <td>daylight</td>\n",
       "      <td>rainy</td>\n",
       "      <td>False</td>\n",
       "      <td>True</td>\n",
       "      <td>afternoon</td>\n",
       "      <td>False</td>\n",
       "      <td>True</td>\n",
       "      <td>1</td>\n",
       "      <td>0.13</td>\n",
       "    </tr>\n",
       "    <tr>\n",
       "      <th>1</th>\n",
       "      <td>1</td>\n",
       "      <td>urban</td>\n",
       "      <td>4</td>\n",
       "      <td>0.99</td>\n",
       "      <td>35</td>\n",
       "      <td>daylight</td>\n",
       "      <td>clear</td>\n",
       "      <td>True</td>\n",
       "      <td>False</td>\n",
       "      <td>evening</td>\n",
       "      <td>True</td>\n",
       "      <td>True</td>\n",
       "      <td>0</td>\n",
       "      <td>0.35</td>\n",
       "    </tr>\n",
       "    <tr>\n",
       "      <th>2</th>\n",
       "      <td>2</td>\n",
       "      <td>rural</td>\n",
       "      <td>4</td>\n",
       "      <td>0.63</td>\n",
       "      <td>70</td>\n",
       "      <td>dim</td>\n",
       "      <td>clear</td>\n",
       "      <td>False</td>\n",
       "      <td>True</td>\n",
       "      <td>morning</td>\n",
       "      <td>True</td>\n",
       "      <td>False</td>\n",
       "      <td>2</td>\n",
       "      <td>0.30</td>\n",
       "    </tr>\n",
       "    <tr>\n",
       "      <th>3</th>\n",
       "      <td>3</td>\n",
       "      <td>highway</td>\n",
       "      <td>4</td>\n",
       "      <td>0.07</td>\n",
       "      <td>35</td>\n",
       "      <td>dim</td>\n",
       "      <td>rainy</td>\n",
       "      <td>True</td>\n",
       "      <td>True</td>\n",
       "      <td>morning</td>\n",
       "      <td>False</td>\n",
       "      <td>False</td>\n",
       "      <td>1</td>\n",
       "      <td>0.21</td>\n",
       "    </tr>\n",
       "    <tr>\n",
       "      <th>4</th>\n",
       "      <td>4</td>\n",
       "      <td>rural</td>\n",
       "      <td>1</td>\n",
       "      <td>0.58</td>\n",
       "      <td>60</td>\n",
       "      <td>daylight</td>\n",
       "      <td>foggy</td>\n",
       "      <td>False</td>\n",
       "      <td>False</td>\n",
       "      <td>evening</td>\n",
       "      <td>True</td>\n",
       "      <td>False</td>\n",
       "      <td>1</td>\n",
       "      <td>0.56</td>\n",
       "    </tr>\n",
       "  </tbody>\n",
       "</table>\n",
       "</div>"
      ],
      "text/plain": [
       "   id road_type  num_lanes  curvature  speed_limit  lighting weather  \\\n",
       "0   0     urban          2       0.06           35  daylight   rainy   \n",
       "1   1     urban          4       0.99           35  daylight   clear   \n",
       "2   2     rural          4       0.63           70       dim   clear   \n",
       "3   3   highway          4       0.07           35       dim   rainy   \n",
       "4   4     rural          1       0.58           60  daylight   foggy   \n",
       "\n",
       "   road_signs_present  public_road time_of_day  holiday  school_season  \\\n",
       "0               False         True   afternoon    False           True   \n",
       "1                True        False     evening     True           True   \n",
       "2               False         True     morning     True          False   \n",
       "3                True         True     morning    False          False   \n",
       "4               False        False     evening     True          False   \n",
       "\n",
       "   num_reported_accidents  accident_risk  \n",
       "0                       1           0.13  \n",
       "1                       0           0.35  \n",
       "2                       2           0.30  \n",
       "3                       1           0.21  \n",
       "4                       1           0.56  "
      ]
     },
     "execution_count": 11,
     "metadata": {},
     "output_type": "execute_result"
    }
   ],
   "source": [
    "df = pd.read_csv(\"C:/Users/Ilias/documents/cours_mines/kaggle/road_accident/train.csv\")\n",
    "df_test = pd.read_csv(\"C:/Users/Ilias/documents/cours_mines/kaggle/road_accident/test.csv\")\n",
    "target = df.columns.tolist()[-1]\n",
    "print(df.shape)\n",
    "df.head()"
   ]
  },
  {
   "cell_type": "code",
   "execution_count": 12,
   "id": "783b0ea4",
   "metadata": {},
   "outputs": [],
   "source": [
    "for dff in [df, df_test] : \n",
    "    dff['is_high_accident_zone'] = (dff['num_reported_accidents'] > 3).astype(bool)\n",
    "    dff['is_night_foggy'] = ((dff['weather'] == 'foggy') & (dff['lighting'] == 'night')).astype(int)"
   ]
  },
  {
   "cell_type": "code",
   "execution_count": null,
   "id": "384d016d",
   "metadata": {
    "execution": {
     "iopub.execute_input": "2025-10-24T12:30:47.990020Z",
     "iopub.status.busy": "2025-10-24T12:30:47.989510Z",
     "iopub.status.idle": "2025-10-24T12:30:47.995331Z",
     "shell.execute_reply": "2025-10-24T12:30:47.994818Z"
    },
    "papermill": {
     "duration": 0.011711,
     "end_time": "2025-10-24T12:30:47.996427",
     "exception": false,
     "start_time": "2025-10-24T12:30:47.984716",
     "status": "completed"
    },
    "tags": []
   },
   "outputs": [],
   "source": [
    "# ici, on encode les features catégoriques par fréquence d'apparition\n",
    "def create_frequency_features(train_df, test_df, cols, num, cat):\n",
    "\n",
    "    train, test = train_df.copy(), test_df.copy()\n",
    "\n",
    "    for col in cols:\n",
    "        freq = train[col].value_counts(normalize=True)\n",
    "        train[f\"{col}_freq\"] = train[col].map(freq)\n",
    "        test[f\"{col}_freq\"] = test[col].map(freq).fillna(train[f\"{col}_freq\"].mean())\n",
    "\n",
    "        if col in num:\n",
    "            for q in [5, 10, 15]:\n",
    "                try:\n",
    "                    train[f\"{col}_bin{q}\"], bins = pd.qcut(train[col], q=q, labels=False, retbins=True, duplicates=\"drop\")\n",
    "                    test[f\"{col}_bin{q}\"] = pd.cut(test[col], bins=bins, labels=False, include_lowest=True)\n",
    "                except Exception:\n",
    "                    train[f\"{col}_bin{q}\"] = test[f\"{col}_bin{q}\"] = 0\n",
    "\n",
    "    new_num = train.drop(columns=cat+[target]).columns.tolist()\n",
    "    return train, test, new_num"
   ]
  },
  {
   "cell_type": "code",
   "execution_count": null,
   "id": "3c26aeae",
   "metadata": {
    "execution": {
     "iopub.execute_input": "2025-10-24T12:30:48.013854Z",
     "iopub.status.busy": "2025-10-24T12:30:48.013426Z",
     "iopub.status.idle": "2025-10-24T12:30:49.871976Z",
     "shell.execute_reply": "2025-10-24T12:30:49.871087Z"
    },
    "papermill": {
     "duration": 1.864681,
     "end_time": "2025-10-24T12:30:49.873473",
     "exception": false,
     "start_time": "2025-10-24T12:30:48.008792",
     "status": "completed"
    },
    "tags": []
   },
   "outputs": [],
   "source": [
    "cols = df.drop(columns=target).columns.tolist()\n",
    "\n",
    "cat = [col for col in cols if df[col].dtype in [\"object\",\"category\"] and col != target]\n",
    "\n",
    "num = [col for col in cols if df[col].dtype not in [\"object\",\"category\",\"bool\"] and col not in [\"id\", target]]\n",
    "\n",
    "df, df_test, new_num = create_frequency_features(df, df_test.copy(), cols, num, cat)\n",
    "\n",
    "df[cat], df_test[cat] = df[cat].astype(\"category\"), df_test[cat].astype(\"category\")\n",
    "\n",
    "df = df.drop(columns=[\"time_of_day\", \"num_lanes\", \"road_type\", \"road_signs_present\", \"id_freq\"])\n",
    "df_test = df_test.drop(columns=[\"time_of_day\", \"num_lanes\", \"road_type\", \"road_signs_present\", \"id_freq\"])\n",
    "\n",
    "df.drop(columns=\"id\", inplace=True)\n",
    "df.drop_duplicates(inplace=True)"
   ]
  },
  {
   "cell_type": "code",
   "execution_count": 15,
   "id": "fac608eb",
   "metadata": {
    "execution": {
     "iopub.execute_input": "2025-10-24T12:30:49.883637Z",
     "iopub.status.busy": "2025-10-24T12:30:49.883371Z",
     "iopub.status.idle": "2025-10-24T12:30:49.887270Z",
     "shell.execute_reply": "2025-10-24T12:30:49.886532Z"
    },
    "papermill": {
     "duration": 0.010009,
     "end_time": "2025-10-24T12:30:49.888241",
     "exception": false,
     "start_time": "2025-10-24T12:30:49.878232",
     "status": "completed"
    },
    "tags": []
   },
   "outputs": [
    {
     "name": "stdout",
     "output_type": "stream",
     "text": [
      "['curvature', 'speed_limit', 'lighting', 'weather', 'public_road', 'holiday', 'school_season', 'num_reported_accidents', 'accident_risk', 'is_high_accident_zone', 'is_night_foggy', 'road_type_freq', 'num_lanes_freq', 'num_lanes_bin5', 'num_lanes_bin10', 'num_lanes_bin15', 'curvature_freq', 'curvature_bin5', 'curvature_bin10', 'curvature_bin15', 'speed_limit_freq', 'speed_limit_bin5', 'speed_limit_bin10', 'speed_limit_bin15', 'lighting_freq', 'weather_freq', 'road_signs_present_freq', 'public_road_freq', 'time_of_day_freq', 'holiday_freq', 'school_season_freq', 'num_reported_accidents_freq', 'num_reported_accidents_bin5', 'num_reported_accidents_bin10', 'num_reported_accidents_bin15', 'is_high_accident_zone_freq', 'is_night_foggy_freq', 'is_night_foggy_bin5', 'is_night_foggy_bin10', 'is_night_foggy_bin15']\n"
     ]
    }
   ],
   "source": [
    "print(df.columns.tolist())"
   ]
  },
  {
   "cell_type": "markdown",
   "id": "8b524102",
   "metadata": {},
   "source": [
    "avant ça, j'avais fait beaucoup de feature engineering (k-means, produits, ratio...) mais cela créait pas mal de bruit donc j'ai décidé de conserver peu de features"
   ]
  },
  {
   "cell_type": "code",
   "execution_count": null,
   "id": "961ebf93",
   "metadata": {},
   "outputs": [],
   "source": [
    "# ici, j'ai au prélable effectué une régression linéaire des features que je trouvais les plus intéressantes. \n",
    "# les coefficients correspondent donc à ceux donnés par ma régression\n",
    "import scipy\n",
    "\n",
    "def f(X):\n",
    "    return \\\n",
    "    0.31 * X[\"curvature\"] + \\\n",
    "    0.22 * (X[\"lighting\"] == \"night\").astype(int) + \\\n",
    "    0.07 * (X[\"weather\"] != \"clear\").astype(int) + \\\n",
    "    0.17 * (X[\"speed_limit\"] >= 60).astype(int) + \\\n",
    "    0.13 * (X[\"num_reported_accidents\"] > 2).astype(int)\n",
    "\n",
    "# ici, pour clipper, au lieu de juste remettre tout dans [0,1], on définit une loi normale centrée sur notre valeur de f(X) et d'incertitude sigma\n",
    "def clip(f):\n",
    "    def clip_f(X):\n",
    "        sigma = 0.05\n",
    "        mu = f(X)\n",
    "        a, b = -mu/sigma, (1-mu)/sigma\n",
    "        Phi_a, Phi_b = scipy.stats.norm.cdf(a), scipy.stats.norm.cdf(b)\n",
    "        phi_a, phi_b = scipy.stats.norm.pdf(a), scipy.stats.norm.pdf(b)\n",
    "        return mu*(Phi_b-Phi_a)+sigma*(phi_a-phi_b)+1-Phi_b\n",
    "    return clip_f\n",
    "\n",
    "z = clip(f)(df)\n",
    "df[\"y\"] = z.values\n",
    "w = clip(f)(df_test)\n",
    "df_test[\"y\"] = w.values"
   ]
  },
  {
   "cell_type": "code",
   "execution_count": 17,
   "id": "5bc07897",
   "metadata": {
    "execution": {
     "iopub.execute_input": "2025-10-24T12:30:49.897552Z",
     "iopub.status.busy": "2025-10-24T12:30:49.897054Z",
     "iopub.status.idle": "2025-10-24T12:30:49.915563Z",
     "shell.execute_reply": "2025-10-24T12:30:49.914880Z"
    },
    "papermill": {
     "duration": 0.024216,
     "end_time": "2025-10-24T12:30:49.916656",
     "exception": false,
     "start_time": "2025-10-24T12:30:49.892440",
     "status": "completed"
    },
    "tags": []
   },
   "outputs": [
    {
     "data": {
      "text/html": [
       "<div>\n",
       "<style scoped>\n",
       "    .dataframe tbody tr th:only-of-type {\n",
       "        vertical-align: middle;\n",
       "    }\n",
       "\n",
       "    .dataframe tbody tr th {\n",
       "        vertical-align: top;\n",
       "    }\n",
       "\n",
       "    .dataframe thead th {\n",
       "        text-align: right;\n",
       "    }\n",
       "</style>\n",
       "<table border=\"1\" class=\"dataframe\">\n",
       "  <thead>\n",
       "    <tr style=\"text-align: right;\">\n",
       "      <th></th>\n",
       "      <th>curvature</th>\n",
       "      <th>speed_limit</th>\n",
       "      <th>lighting</th>\n",
       "      <th>weather</th>\n",
       "      <th>public_road</th>\n",
       "      <th>holiday</th>\n",
       "      <th>school_season</th>\n",
       "      <th>num_reported_accidents</th>\n",
       "      <th>accident_risk</th>\n",
       "      <th>is_high_accident_zone</th>\n",
       "      <th>...</th>\n",
       "      <th>num_reported_accidents_freq</th>\n",
       "      <th>num_reported_accidents_bin5</th>\n",
       "      <th>num_reported_accidents_bin10</th>\n",
       "      <th>num_reported_accidents_bin15</th>\n",
       "      <th>is_high_accident_zone_freq</th>\n",
       "      <th>is_night_foggy_freq</th>\n",
       "      <th>is_night_foggy_bin5</th>\n",
       "      <th>is_night_foggy_bin10</th>\n",
       "      <th>is_night_foggy_bin15</th>\n",
       "      <th>y</th>\n",
       "    </tr>\n",
       "  </thead>\n",
       "  <tbody>\n",
       "    <tr>\n",
       "      <th>0</th>\n",
       "      <td>0.06</td>\n",
       "      <td>35</td>\n",
       "      <td>daylight</td>\n",
       "      <td>rainy</td>\n",
       "      <td>True</td>\n",
       "      <td>False</td>\n",
       "      <td>True</td>\n",
       "      <td>0</td>\n",
       "      <td>0.13</td>\n",
       "      <td>False</td>\n",
       "      <td>...</td>\n",
       "      <td>0.404968</td>\n",
       "      <td>0</td>\n",
       "      <td>0</td>\n",
       "      <td>0</td>\n",
       "      <td>0.994884</td>\n",
       "      <td>0.899781</td>\n",
       "      <td>0</td>\n",
       "      <td>0</td>\n",
       "      <td>0</td>\n",
       "      <td>0.118153</td>\n",
       "    </tr>\n",
       "    <tr>\n",
       "      <th>1</th>\n",
       "      <td>0.99</td>\n",
       "      <td>35</td>\n",
       "      <td>daylight</td>\n",
       "      <td>clear</td>\n",
       "      <td>False</td>\n",
       "      <td>True</td>\n",
       "      <td>True</td>\n",
       "      <td>0</td>\n",
       "      <td>0.35</td>\n",
       "      <td>False</td>\n",
       "      <td>...</td>\n",
       "      <td>0.241947</td>\n",
       "      <td>0</td>\n",
       "      <td>0</td>\n",
       "      <td>0</td>\n",
       "      <td>0.994884</td>\n",
       "      <td>0.899781</td>\n",
       "      <td>0</td>\n",
       "      <td>0</td>\n",
       "      <td>0</td>\n",
       "      <td>0.297000</td>\n",
       "    </tr>\n",
       "    <tr>\n",
       "      <th>2</th>\n",
       "      <td>0.63</td>\n",
       "      <td>70</td>\n",
       "      <td>dim</td>\n",
       "      <td>clear</td>\n",
       "      <td>True</td>\n",
       "      <td>True</td>\n",
       "      <td>False</td>\n",
       "      <td>0</td>\n",
       "      <td>0.30</td>\n",
       "      <td>False</td>\n",
       "      <td>...</td>\n",
       "      <td>0.281920</td>\n",
       "      <td>1</td>\n",
       "      <td>1</td>\n",
       "      <td>1</td>\n",
       "      <td>0.994884</td>\n",
       "      <td>0.899781</td>\n",
       "      <td>0</td>\n",
       "      <td>0</td>\n",
       "      <td>0</td>\n",
       "      <td>0.389000</td>\n",
       "    </tr>\n",
       "    <tr>\n",
       "      <th>3</th>\n",
       "      <td>0.07</td>\n",
       "      <td>35</td>\n",
       "      <td>dim</td>\n",
       "      <td>rainy</td>\n",
       "      <td>True</td>\n",
       "      <td>False</td>\n",
       "      <td>False</td>\n",
       "      <td>0</td>\n",
       "      <td>0.21</td>\n",
       "      <td>False</td>\n",
       "      <td>...</td>\n",
       "      <td>0.404968</td>\n",
       "      <td>0</td>\n",
       "      <td>0</td>\n",
       "      <td>0</td>\n",
       "      <td>0.994884</td>\n",
       "      <td>0.899781</td>\n",
       "      <td>0</td>\n",
       "      <td>0</td>\n",
       "      <td>0</td>\n",
       "      <td>0.121128</td>\n",
       "    </tr>\n",
       "    <tr>\n",
       "      <th>4</th>\n",
       "      <td>0.58</td>\n",
       "      <td>60</td>\n",
       "      <td>daylight</td>\n",
       "      <td>foggy</td>\n",
       "      <td>False</td>\n",
       "      <td>True</td>\n",
       "      <td>False</td>\n",
       "      <td>0</td>\n",
       "      <td>0.56</td>\n",
       "      <td>False</td>\n",
       "      <td>...</td>\n",
       "      <td>0.404968</td>\n",
       "      <td>0</td>\n",
       "      <td>0</td>\n",
       "      <td>0</td>\n",
       "      <td>0.994884</td>\n",
       "      <td>0.899781</td>\n",
       "      <td>0</td>\n",
       "      <td>0</td>\n",
       "      <td>0</td>\n",
       "      <td>0.474000</td>\n",
       "    </tr>\n",
       "  </tbody>\n",
       "</table>\n",
       "<p>5 rows × 41 columns</p>\n",
       "</div>"
      ],
      "text/plain": [
       "   curvature  speed_limit  lighting weather  public_road  holiday  \\\n",
       "0       0.06           35  daylight   rainy         True    False   \n",
       "1       0.99           35  daylight   clear        False     True   \n",
       "2       0.63           70       dim   clear         True     True   \n",
       "3       0.07           35       dim   rainy         True    False   \n",
       "4       0.58           60  daylight   foggy        False     True   \n",
       "\n",
       "   school_season  num_reported_accidents  accident_risk  \\\n",
       "0           True                       0           0.13   \n",
       "1           True                       0           0.35   \n",
       "2          False                       0           0.30   \n",
       "3          False                       0           0.21   \n",
       "4          False                       0           0.56   \n",
       "\n",
       "   is_high_accident_zone  ...  num_reported_accidents_freq  \\\n",
       "0                  False  ...                     0.404968   \n",
       "1                  False  ...                     0.241947   \n",
       "2                  False  ...                     0.281920   \n",
       "3                  False  ...                     0.404968   \n",
       "4                  False  ...                     0.404968   \n",
       "\n",
       "   num_reported_accidents_bin5  num_reported_accidents_bin10  \\\n",
       "0                            0                             0   \n",
       "1                            0                             0   \n",
       "2                            1                             1   \n",
       "3                            0                             0   \n",
       "4                            0                             0   \n",
       "\n",
       "   num_reported_accidents_bin15  is_high_accident_zone_freq  \\\n",
       "0                             0                    0.994884   \n",
       "1                             0                    0.994884   \n",
       "2                             1                    0.994884   \n",
       "3                             0                    0.994884   \n",
       "4                             0                    0.994884   \n",
       "\n",
       "   is_night_foggy_freq  is_night_foggy_bin5  is_night_foggy_bin10  \\\n",
       "0             0.899781                    0                     0   \n",
       "1             0.899781                    0                     0   \n",
       "2             0.899781                    0                     0   \n",
       "3             0.899781                    0                     0   \n",
       "4             0.899781                    0                     0   \n",
       "\n",
       "   is_night_foggy_bin15         y  \n",
       "0                     0  0.118153  \n",
       "1                     0  0.297000  \n",
       "2                     0  0.389000  \n",
       "3                     0  0.121128  \n",
       "4                     0  0.474000  \n",
       "\n",
       "[5 rows x 41 columns]"
      ]
     },
     "execution_count": 17,
     "metadata": {},
     "output_type": "execute_result"
    }
   ],
   "source": [
    "df.head()"
   ]
  },
  {
   "cell_type": "code",
   "execution_count": null,
   "id": "d42d60c3",
   "metadata": {
    "execution": {
     "iopub.execute_input": "2025-10-24T12:30:49.934729Z",
     "iopub.status.busy": "2025-10-24T12:30:49.934483Z",
     "iopub.status.idle": "2025-10-24T12:32:55.522212Z",
     "shell.execute_reply": "2025-10-24T12:32:55.521468Z"
    },
    "papermill": {
     "duration": 125.59386,
     "end_time": "2025-10-24T12:32:55.523388",
     "exception": false,
     "start_time": "2025-10-24T12:30:49.929528",
     "status": "completed"
    },
    "tags": []
   },
   "outputs": [
    {
     "name": "stderr",
     "output_type": "stream",
     "text": [
      "c:\\miniconda\\Lib\\site-packages\\xgboost\\training.py:209: UserWarning: [12:25:42] WARNING: C:\\actions-runner\\_work\\xgboost\\xgboost\\src\\context.cc:49: No visible GPU is found, setting device to CPU.\n",
      "  return getattr(self.bst, name)(*args, **kwargs)\n",
      "c:\\miniconda\\Lib\\site-packages\\xgboost\\training.py:209: UserWarning: [12:25:42] WARNING: C:\\actions-runner\\_work\\xgboost\\xgboost\\src\\context.cc:203: XGBoost is not compiled with CUDA support.\n",
      "  return getattr(self.bst, name)(*args, **kwargs)\n",
      "c:\\miniconda\\Lib\\site-packages\\xgboost\\training.py:215: UserWarning: [12:25:42] WARNING: C:\\actions-runner\\_work\\xgboost\\xgboost\\src\\context.cc:49: No visible GPU is found, setting device to CPU.\n",
      "  self.bst.update(self.dtrain, iteration, fobj)\n",
      "c:\\miniconda\\Lib\\site-packages\\xgboost\\training.py:215: UserWarning: [12:25:42] WARNING: C:\\actions-runner\\_work\\xgboost\\xgboost\\src\\context.cc:203: XGBoost is not compiled with CUDA support.\n",
      "  self.bst.update(self.dtrain, iteration, fobj)\n",
      "c:\\miniconda\\Lib\\site-packages\\xgboost\\training.py:215: UserWarning: [12:25:43] WARNING: C:\\actions-runner\\_work\\xgboost\\xgboost\\src\\context.cc:49: No visible GPU is found, setting device to CPU.\n",
      "  self.bst.update(self.dtrain, iteration, fobj)\n",
      "c:\\miniconda\\Lib\\site-packages\\xgboost\\training.py:215: UserWarning: [12:25:43] WARNING: C:\\actions-runner\\_work\\xgboost\\xgboost\\src\\context.cc:203: XGBoost is not compiled with CUDA support.\n",
      "  self.bst.update(self.dtrain, iteration, fobj)\n"
     ]
    },
    {
     "name": "stdout",
     "output_type": "stream",
     "text": [
      "[0]\ttrain-rmse:0.16480+0.00005\ttest-rmse:0.16480+0.00019\n",
      "[100]\ttrain-rmse:0.07593+0.00005\ttest-rmse:0.07612+0.00029\n",
      "[200]\ttrain-rmse:0.05817+0.00005\ttest-rmse:0.05859+0.00027\n",
      "[300]\ttrain-rmse:0.05573+0.00006\ttest-rmse:0.05627+0.00025\n",
      "[400]\ttrain-rmse:0.05539+0.00006\ttest-rmse:0.05600+0.00024\n",
      "[500]\ttrain-rmse:0.05531+0.00006\ttest-rmse:0.05596+0.00023\n",
      "[600]\ttrain-rmse:0.05528+0.00006\ttest-rmse:0.05595+0.00023\n",
      "[700]\ttrain-rmse:0.05527+0.00006\ttest-rmse:0.05595+0.00023\n",
      "[800]\ttrain-rmse:0.05527+0.00006\ttest-rmse:0.05595+0.00023\n",
      "[900]\ttrain-rmse:0.05527+0.00006\ttest-rmse:0.05595+0.00023\n",
      "[1000]\ttrain-rmse:0.05526+0.00005\ttest-rmse:0.05595+0.00023\n",
      "[1012]\ttrain-rmse:0.05526+0.00005\ttest-rmse:0.05595+0.00023\n",
      "     train-rmse-mean  train-rmse-std  test-rmse-mean  test-rmse-std\n",
      "958         0.055266        0.000055         0.05595       0.000231\n",
      "959         0.055266        0.000055         0.05595       0.000231\n",
      "960         0.055266        0.000055         0.05595       0.000231\n",
      "961         0.055266        0.000055         0.05595       0.000231\n",
      "962         0.055266        0.000055         0.05595       0.000231\n",
      "Best round: 962, Best CV RMSE: 0.0559497\n"
     ]
    }
   ],
   "source": [
    "# j'ai juste gardé les meilleurs paramètres ici\n",
    "dtrain = xgb.DMatrix(df.drop(columns=target), label=df[target], enable_categorical=True)\n",
    "\n",
    "xgb_params = {\n",
    "    'max_depth': 10, 'learning_rate': 0.011,\n",
    "    'subsample': 0.82, 'colsample_bytree': 0.81,\n",
    "    'min_child_weight': 3, 'gamma': 0.011,\n",
    "    'reg_alpha': 0.12, 'reg_lambda': 0.4,\n",
    "    'max_delta_step': 1, 'colsample_bylevel': 0.86,\n",
    "    'colsample_bynode': 0.88, 'scale_pos_weight': 0.36,\n",
    "    'max_bin': 512, 'tree_method': 'hist', \"device\":\"cuda\",\n",
    "    'eval_metric': 'rmse', 'random_state': 42,\n",
    "}\n",
    "\n",
    "cv_results = xgb.cv(\n",
    "    params=xgb_params,\n",
    "    dtrain=dtrain,\n",
    "    nfold=5,\n",
    "    num_boost_round=2000,\n",
    "    metrics='rmse',\n",
    "    verbose_eval=100,\n",
    "    early_stopping_rounds=50\n",
    ")\n",
    "\n",
    "print(cv_results.tail())\n",
    "\n",
    "best_round = cv_results['test-rmse-mean'].idxmin()\n",
    "best_rmse = cv_results['test-rmse-mean'][best_round]\n",
    "print(f\"Best round: {best_round}, Best CV RMSE: {best_rmse:.7f}\")"
   ]
  },
  {
   "cell_type": "code",
   "execution_count": null,
   "id": "44500e33",
   "metadata": {
    "_kg_hide-input": true,
    "execution": {
     "iopub.execute_input": "2025-10-24T12:32:55.535035Z",
     "iopub.status.busy": "2025-10-24T12:32:55.534518Z",
     "iopub.status.idle": "2025-10-24T12:32:55.538154Z",
     "shell.execute_reply": "2025-10-24T12:32:55.537426Z"
    },
    "papermill": {
     "duration": 0.010327,
     "end_time": "2025-10-24T12:32:55.539220",
     "exception": false,
     "start_time": "2025-10-24T12:32:55.528893",
     "status": "completed"
    },
    "tags": []
   },
   "outputs": [],
   "source": [
    "last_round = len(cv_results) - 1\n",
    "xgb_params[\"n_estimators\"] = last_round + 10"
   ]
  },
  {
   "cell_type": "markdown",
   "id": "956d3ef0",
   "metadata": {
    "papermill": {
     "duration": 0.004683,
     "end_time": "2025-10-24T12:32:55.548895",
     "exception": false,
     "start_time": "2025-10-24T12:32:55.544212",
     "status": "completed"
    },
    "tags": []
   },
   "source": [
    "<h2> l'heure de la submission ! </h2>"
   ]
  },
  {
   "cell_type": "code",
   "execution_count": null,
   "id": "7931b098",
   "metadata": {
    "_kg_hide-input": false,
    "execution": {
     "iopub.execute_input": "2025-10-24T12:32:55.559544Z",
     "iopub.status.busy": "2025-10-24T12:32:55.558973Z",
     "iopub.status.idle": "2025-10-24T12:33:21.619144Z",
     "shell.execute_reply": "2025-10-24T12:33:21.618344Z"
    },
    "papermill": {
     "duration": 26.066814,
     "end_time": "2025-10-24T12:33:21.620489",
     "exception": false,
     "start_time": "2025-10-24T12:32:55.553675",
     "status": "completed"
    },
    "tags": []
   },
   "outputs": [
    {
     "name": "stderr",
     "output_type": "stream",
     "text": [
      "c:\\miniconda\\Lib\\site-packages\\xgboost\\training.py:183: UserWarning: [12:33:35] WARNING: C:\\actions-runner\\_work\\xgboost\\xgboost\\src\\context.cc:49: No visible GPU is found, setting device to CPU.\n",
      "  bst.update(dtrain, iteration=i, fobj=obj)\n",
      "c:\\miniconda\\Lib\\site-packages\\xgboost\\training.py:183: UserWarning: [12:33:35] WARNING: C:\\actions-runner\\_work\\xgboost\\xgboost\\src\\context.cc:203: XGBoost is not compiled with CUDA support.\n",
      "  bst.update(dtrain, iteration=i, fobj=obj)\n"
     ]
    }
   ],
   "source": [
    "X_train = df.drop(columns=target)\n",
    "y_train = df[target]\n",
    "\n",
    "model = XGBRegressor(**xgb_params, enable_categorical=True)\n",
    "model.fit(X_train, y_train)\n",
    "\n",
    "pred = model.predict(df_test.drop(columns = \"id\"))\n",
    "\n",
    "sub = pd.DataFrame({\n",
    "    \"id\": df_test[\"id\"],\n",
    "    target: pred\n",
    "})\n",
    "sub.to_csv(\"submission.csv\", index=False)"
   ]
  },
  {
   "cell_type": "code",
   "execution_count": null,
   "id": "360c1ee6",
   "metadata": {},
   "outputs": [],
   "source": []
  }
 ],
 "metadata": {
  "kaggle": {
   "accelerator": "gpu",
   "dataSources": [
    {
     "databundleVersionId": 13760552,
     "sourceId": 91721,
     "sourceType": "competition"
    }
   ],
   "dockerImageVersionId": 31153,
   "isGpuEnabled": true,
   "isInternetEnabled": true,
   "language": "python",
   "sourceType": "notebook"
  },
  "kernelspec": {
   "display_name": "base",
   "language": "python",
   "name": "python3"
  },
  "language_info": {
   "codemirror_mode": {
    "name": "ipython",
    "version": 3
   },
   "file_extension": ".py",
   "mimetype": "text/x-python",
   "name": "python",
   "nbconvert_exporter": "python",
   "pygments_lexer": "ipython3",
   "version": "3.12.4"
  },
  "papermill": {
   "default_parameters": {},
   "duration": 174.49978,
   "end_time": "2025-10-24T12:33:22.253487",
   "environment_variables": {},
   "exception": null,
   "input_path": "__notebook__.ipynb",
   "output_path": "__notebook__.ipynb",
   "parameters": {},
   "start_time": "2025-10-24T12:30:27.753707",
   "version": "2.6.0"
  }
 },
 "nbformat": 4,
 "nbformat_minor": 5
}
